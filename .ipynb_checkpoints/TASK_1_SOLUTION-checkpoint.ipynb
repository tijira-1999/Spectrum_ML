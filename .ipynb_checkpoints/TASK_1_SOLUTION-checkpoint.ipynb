{
 "cells": [
  {
   "cell_type": "code",
   "execution_count": null,
   "metadata": {},
   "outputs": [],
   "source": [
    "import numpy as np\n",
    "import matplotlib.pyplot as plt\n",
    "import Scores_dict as sc\n",
    "\n",
    "Scores = []\n",
    "for items in sc.scores:\n",
    "    Scores.append(sc.scores[items])\n",
    "Days = np.arange(1,31)\n",
    "x = Scores\n",
    "y = Days\n",
    "plt.title(\"BILLY'S SCORES\") \n",
    "plt.xlabel(\"Score\") \n",
    "plt.ylabel(\"Days\") \n",
    "plt.plot(Scores,Days,\"ob\") \n",
    "plt.plot(Scores,Days,\"--\") \n",
    "plt.show()\n",
    "\n",
    "print(\"Minimum Score: \"+ str(np.min(Scores)))\n",
    "print(\"Maximum Score: \"+ str(np.max(Scores)))\n",
    "print(\"Mean Score: \"+ str(np.mean(Scores)))\n",
    "print(\"Median Score: \"+ str(np.median(Scores)))"
   ]
  }
 ],
 "metadata": {
  "kernelspec": {
   "display_name": "Python 3",
   "language": "python",
   "name": "python3"
  },
  "language_info": {
   "codemirror_mode": {
    "name": "ipython",
    "version": 3
   },
   "file_extension": ".py",
   "mimetype": "text/x-python",
   "name": "python",
   "nbconvert_exporter": "python",
   "pygments_lexer": "ipython3",
   "version": "3.7.6"
  }
 },
 "nbformat": 4,
 "nbformat_minor": 4
}
